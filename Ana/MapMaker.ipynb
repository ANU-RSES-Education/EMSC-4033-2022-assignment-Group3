{
 "cells": [
  {
   "cell_type": "markdown",
   "id": "d106df25",
   "metadata": {},
   "source": [
    "# Making a map using the on-demand mapping services for a basemap and super-imposing some data\n",
    "\n",
    "## Background \n",
    "\n",
    "The most familiar mapping services are those we often use to navigate with our phones for example: google maps. The difference between google maps and many of the examples we have looked at so far is that we do not download data in advance, process it and then create a map. Instead we have access to data when we need it and a a _relevant_ resolution. If we want to make a global map that is 1000 pixels across then Australia is probably just a few dozen pixels wide. If we instead decide to make a map to navigate across Melbourne, then a much higher resolution is needed _but only within the boundary of the map_. \n",
    "\n",
    "`Cartopy` provides access to various of the online mapping services that will serve image data on demand in the form of small image tiles at a specified resolution. The tools automatically query the service and assemble the tiles to make the map but there are some tricks that we need to know before we can use them.\n",
    "\n",
    "## Exercise\n",
    "\n",
    "This notebook is a template that needs to have some functions defined that it can use to plot the map.\n",
    "\n",
    "Your job is to provide those functions so that this notebook will work. You are not going to change this notebook at all !"
   ]
  },
  {
   "cell_type": "code",
   "execution_count": 1,
   "id": "a72c2b2d-79b7-4cfd-938a-a65a2e457a01",
   "metadata": {},
   "outputs": [],
   "source": [
    "from src.dependencies import *\n",
    "from src.my_functions import *"
   ]
  },
  {
   "cell_type": "code",
   "execution_count": 2,
   "id": "952440f8-2180-49c3-8a70-00edba4db37a",
   "metadata": {},
   "outputs": [
    {
     "data": {
      "text/markdown": [
       "   \n",
       "\n",
       "Explain the document...\n",
       "\n"
      ]
     },
     "metadata": {},
     "output_type": "display_data"
    }
   ],
   "source": [
    "display_markdown(my_documentation(), raw=True)"
   ]
  },
  {
   "cell_type": "markdown",
   "id": "6d319b4b-06f7-4c43-a57b-9e9768b61212",
   "metadata": {},
   "source": [
    "## The code !"
   ]
  },
  {
   "cell_type": "code",
   "execution_count": 3,
   "id": "3cc25553-9351-4d76-926f-fda3f373ebbc",
   "metadata": {},
   "outputs": [],
   "source": [
    "import warnings\n",
    "warnings.filterwarnings('ignore')"
   ]
  },
  {
   "cell_type": "code",
   "execution_count": 4,
   "id": "d802468a-a6e3-4310-ab7e-39e4af1212ec",
   "metadata": {},
   "outputs": [],
   "source": [
    "# Specify a region of interest\n",
    "\n",
    "lat0 =  30  ; lat1 = 40\n",
    "lon0 =  -123; lon1 = -113\n",
    "\n",
    "map_extent = [lon0, lon1, lat0, lat1]\n",
    "basemap_name = \"mapbox_outdoors\""
   ]
  },
  {
   "cell_type": "code",
   "execution_count": 5,
   "id": "6638b195-3cd1-4e66-ab50-4eaaee8db3b2",
   "metadata": {},
   "outputs": [],
   "source": [
    "coastline = my_coastlines(\"10m\")\n",
    "water_features = my_water_features(\"50m\")"
   ]
  },
  {
   "cell_type": "code",
   "execution_count": 6,
   "id": "464f3518-8e72-443e-ac62-0c324a02ab3e",
   "metadata": {},
   "outputs": [],
   "source": [
    "map_tiles_dictionary = my_basemaps()"
   ]
  },
  {
   "cell_type": "code",
   "execution_count": 7,
   "id": "1fa7339d-6f8b-4a8f-bc4f-4973426e6571",
   "metadata": {},
   "outputs": [
    {
     "ename": "NameError",
     "evalue": "name 'kwargs' is not defined",
     "output_type": "error",
     "traceback": [
      "\u001b[0;31m---------------------------------------------------------------------------\u001b[0m",
      "\u001b[0;31mNameError\u001b[0m                                 Traceback (most recent call last)",
      "Input \u001b[0;32mIn [7]\u001b[0m, in \u001b[0;36m<cell line: 1>\u001b[0;34m()\u001b[0m\n\u001b[0;32m----> 1\u001b[0m point_data \u001b[38;5;241m=\u001b[39m \u001b[43mmy_point_data\u001b[49m\u001b[43m(\u001b[49m\u001b[43mmap_extent\u001b[49m\u001b[43m)\u001b[49m\n\u001b[1;32m      3\u001b[0m \u001b[38;5;28mprint\u001b[39m(point_data)\n",
      "File \u001b[0;32m~/EMSC-4033-2022-assignment-Group3/Ana/src/my_functions.py:135\u001b[0m, in \u001b[0;36mmy_point_data\u001b[0;34m(region)\u001b[0m\n\u001b[1;32m    133\u001b[0m \u001b[38;5;28;01mdef\u001b[39;00m \u001b[38;5;21mmy_point_data\u001b[39m(region):\n\u001b[0;32m--> 135\u001b[0m     data \u001b[38;5;241m=\u001b[39m \u001b[43mdownload_point_data\u001b[49m\u001b[43m(\u001b[49m\u001b[43mregion\u001b[49m\u001b[43m)\u001b[49m\n\u001b[1;32m    137\u001b[0m     \u001b[38;5;28;01mreturn\u001b[39;00m data\n",
      "File \u001b[0;32m~/EMSC-4033-2022-assignment-Group3/Ana/src/my_functions.py:117\u001b[0m, in \u001b[0;36mdownload_point_data\u001b[0;34m(region)\u001b[0m\n\u001b[1;32m     86\u001b[0m     starttime \u001b[38;5;241m=\u001b[39m UTCDateTime(\u001b[38;5;124m\"\u001b[39m\u001b[38;5;124m1975-01-01\u001b[39m\u001b[38;5;124m\"\u001b[39m)\n\u001b[1;32m     87\u001b[0m     endtime   \u001b[38;5;241m=\u001b[39m UTCDateTime(\u001b[38;5;124m\"\u001b[39m\u001b[38;5;124m2022-01-01\u001b[39m\u001b[38;5;124m\"\u001b[39m)\n\u001b[1;32m     89\u001b[0m     cat \u001b[38;5;241m=\u001b[39m client\u001b[38;5;241m.\u001b[39mget_events(\n\u001b[1;32m     90\u001b[0m     starttime\u001b[38;5;241m=\u001b[39m\u001b[38;5;28;01mNone\u001b[39;00m,\n\u001b[1;32m     91\u001b[0m     endtime\u001b[38;5;241m=\u001b[39m\u001b[38;5;28;01mNone\u001b[39;00m,\n\u001b[1;32m     92\u001b[0m     minlatitude\u001b[38;5;241m=\u001b[39m\u001b[38;5;28;01mNone\u001b[39;00m,\n\u001b[1;32m     93\u001b[0m     maxlatitude\u001b[38;5;241m=\u001b[39m\u001b[38;5;28;01mNone\u001b[39;00m,\n\u001b[1;32m     94\u001b[0m     minlongitude\u001b[38;5;241m=\u001b[39m\u001b[38;5;28;01mNone\u001b[39;00m,\n\u001b[1;32m     95\u001b[0m     maxlongitude\u001b[38;5;241m=\u001b[39m\u001b[38;5;28;01mNone\u001b[39;00m,\n\u001b[1;32m     96\u001b[0m     latitude\u001b[38;5;241m=\u001b[39m\u001b[38;5;28;01mNone\u001b[39;00m,\n\u001b[1;32m     97\u001b[0m     longitude\u001b[38;5;241m=\u001b[39m\u001b[38;5;28;01mNone\u001b[39;00m,\n\u001b[1;32m     98\u001b[0m     minradius\u001b[38;5;241m=\u001b[39m\u001b[38;5;28;01mNone\u001b[39;00m,\n\u001b[1;32m     99\u001b[0m     maxradius\u001b[38;5;241m=\u001b[39m\u001b[38;5;28;01mNone\u001b[39;00m,\n\u001b[1;32m    100\u001b[0m     mindepth\u001b[38;5;241m=\u001b[39m\u001b[38;5;28;01mNone\u001b[39;00m,\n\u001b[1;32m    101\u001b[0m     maxdepth\u001b[38;5;241m=\u001b[39m\u001b[38;5;28;01mNone\u001b[39;00m,\n\u001b[1;32m    102\u001b[0m     minmagnitude\u001b[38;5;241m=\u001b[39m\u001b[38;5;28;01mNone\u001b[39;00m,\n\u001b[1;32m    103\u001b[0m     maxmagnitude\u001b[38;5;241m=\u001b[39m\u001b[38;5;28;01mNone\u001b[39;00m,\n\u001b[1;32m    104\u001b[0m     magnitudetype\u001b[38;5;241m=\u001b[39m\u001b[38;5;28;01mNone\u001b[39;00m,\n\u001b[1;32m    105\u001b[0m     eventtype\u001b[38;5;241m=\u001b[39m\u001b[38;5;28;01mNone\u001b[39;00m,\n\u001b[1;32m    106\u001b[0m     includeallorigins\u001b[38;5;241m=\u001b[39m\u001b[38;5;28;01mNone\u001b[39;00m,\n\u001b[1;32m    107\u001b[0m     includeallmagnitudes\u001b[38;5;241m=\u001b[39m\u001b[38;5;28;01mNone\u001b[39;00m,\n\u001b[1;32m    108\u001b[0m     includearrivals\u001b[38;5;241m=\u001b[39m\u001b[38;5;28;01mNone\u001b[39;00m,\n\u001b[1;32m    109\u001b[0m     eventid\u001b[38;5;241m=\u001b[39m\u001b[38;5;28;01mNone\u001b[39;00m,\n\u001b[1;32m    110\u001b[0m     limit\u001b[38;5;241m=\u001b[39m\u001b[38;5;28;01mNone\u001b[39;00m,\n\u001b[1;32m    111\u001b[0m     offset\u001b[38;5;241m=\u001b[39m\u001b[38;5;28;01mNone\u001b[39;00m,\n\u001b[1;32m    112\u001b[0m     orderby\u001b[38;5;241m=\u001b[39m\u001b[38;5;28;01mNone\u001b[39;00m,\n\u001b[1;32m    113\u001b[0m     catalog\u001b[38;5;241m=\u001b[39m\u001b[38;5;28;01mNone\u001b[39;00m,\n\u001b[1;32m    114\u001b[0m     contributor\u001b[38;5;241m=\u001b[39m\u001b[38;5;28;01mNone\u001b[39;00m,\n\u001b[1;32m    115\u001b[0m     updatedafter\u001b[38;5;241m=\u001b[39m\u001b[38;5;28;01mNone\u001b[39;00m,\n\u001b[1;32m    116\u001b[0m     filename\u001b[38;5;241m=\u001b[39m\u001b[38;5;28;01mNone\u001b[39;00m,\n\u001b[0;32m--> 117\u001b[0m     \u001b[38;5;241m*\u001b[39m\u001b[38;5;241m*\u001b[39m\u001b[43mkwargs\u001b[49m,\n\u001b[1;32m    118\u001b[0m )\n\u001b[1;32m    120\u001b[0m     \u001b[38;5;28mprint\u001b[39m (\u001b[38;5;124m\"\u001b[39m\u001b[38;5;124mPoint data: \u001b[39m\u001b[38;5;132;01m{}\u001b[39;00m\u001b[38;5;124m events in catalogue\u001b[39m\u001b[38;5;124m\"\u001b[39m\u001b[38;5;241m.\u001b[39mformat(cat\u001b[38;5;241m.\u001b[39mcount()))\n\u001b[1;32m    122\u001b[0m     \u001b[38;5;66;03m# Unpack the obspy data into a plottable array\u001b[39;00m\n",
      "\u001b[0;31mNameError\u001b[0m: name 'kwargs' is not defined"
     ]
    }
   ],
   "source": [
    "point_data = my_point_data(map_extent)\n",
    "\n",
    "print(point_data)"
   ]
  },
  {
   "cell_type": "code",
   "execution_count": null,
   "id": "8f5e57ab-5cfc-4f46-a1c4-e5b0e2ca8c90",
   "metadata": {},
   "outputs": [],
   "source": [
    "raster = my_global_raster_data()\n",
    "\n",
    "print(raster)\n"
   ]
  },
  {
   "cell_type": "code",
   "execution_count": null,
   "id": "dac68bcb-0a84-43e2-9908-64fd4e343d2f",
   "metadata": {},
   "outputs": [],
   "source": [
    "## specify some shapefile data (?)"
   ]
  },
  {
   "cell_type": "code",
   "execution_count": null,
   "id": "719b0d0f-4151-4782-89b4-9e8b3171c22b",
   "metadata": {
    "tags": []
   },
   "outputs": [],
   "source": [
    "map_tiles = map_tiles_dictionary[basemap_name]\n",
    "\n",
    "fig = plt.figure(figsize=(12, 12), facecolor=\"none\")\n",
    "\n",
    "# Create a GeoAxes in the tile's projection.\n",
    "ax = plt.axes(projection=map_tiles.crs)\n",
    "\n",
    "# Set the size of the map\n",
    "ax.set_extent(map_extent)\n",
    "# Add the on-demand image - the second argument is the resolution and needs to be balanced with the \n",
    "# size of the area the map covers. \n",
    "\n",
    "ax.add_image(map_tiles, 8)\n",
    "ax.add_feature(coastline, linewidth=1.5,  edgecolor=\"Black\", zorder=1, alpha=0.5)\n",
    "for feature in water_features:\n",
    "    ax.add_feature(feature,    linewidth=1.0,  edgecolor=\"Blue\",  zorder=2, alpha=0.5)\n",
    "    \n",
    "## Add point data (lon, lat,colormapped variable, size variable)\n",
    "ax.scatter(point_data[:,0], point_data[:,1], 10.0* point_data[:,3], c=point_data[:,2], marker='o', \n",
    "               cmap=cm.RdYlBu_r, alpha = 0.85, linewidth=0.5, transform=ccrs.Geodetic())\n",
    "\n",
    "\n",
    "## Add raster data as contours\n",
    "\n",
    "cf = ax.contourf(raster[:,:,0], raster[:,:,1], raster[:,:,2], \n",
    "         levels = np.arange(0.5,250,10), vmin=0, vmax=150,\n",
    "         transform=ccrs.PlateCarree(),  cmap=\"RdYlBu\",zorder=2, alpha=0.75)\n",
    "\n"
   ]
  },
  {
   "cell_type": "code",
   "execution_count": null,
   "id": "b9209052",
   "metadata": {},
   "outputs": [],
   "source": [
    "fig.savefig(\"LA_Basin_Map.png\", dpi=600)"
   ]
  },
  {
   "cell_type": "markdown",
   "id": "2416b806",
   "metadata": {},
   "source": [
    "See how well that worked by opening the [full-size image](./LA_Basin_Map.png). \n",
    "\n",
    "There really is a lot of detail available, but you can also see how long it takes to download and build the different resolutions. There is something of an art to finding the right balance. \n",
    "\n",
    "You may also find that very high resolution output results in memory errors. If so, restart the kernel and try again with a small image or lower dpi."
   ]
  },
  {
   "cell_type": "code",
   "execution_count": null,
   "id": "e0c34882-5041-48ad-b9bc-a742ecf21e8a",
   "metadata": {},
   "outputs": [],
   "source": []
  },
  {
   "cell_type": "code",
   "execution_count": null,
   "id": "d0fbe1a9-0cd7-4fd2-9391-e833b9f6fd03",
   "metadata": {},
   "outputs": [],
   "source": []
  },
  {
   "cell_type": "code",
   "execution_count": null,
   "id": "ad4b785c-a1ff-4126-878e-7847dfe8d02b",
   "metadata": {},
   "outputs": [],
   "source": []
  }
 ],
 "metadata": {
  "kernelspec": {
   "display_name": "Python 3 (ipykernel)",
   "language": "python",
   "name": "python3"
  },
  "language_info": {
   "codemirror_mode": {
    "name": "ipython",
    "version": 3
   },
   "file_extension": ".py",
   "mimetype": "text/x-python",
   "name": "python",
   "nbconvert_exporter": "python",
   "pygments_lexer": "ipython3",
   "version": "3.9.7"
  }
 },
 "nbformat": 4,
 "nbformat_minor": 5
}
