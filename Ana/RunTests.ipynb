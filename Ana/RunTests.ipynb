{
 "cells": [
  {
   "cell_type": "code",
   "execution_count": 5,
   "id": "e96c4370-f68e-4b6e-8133-33cc72672796",
   "metadata": {},
   "outputs": [],
   "source": [
    "from src import functions\n",
    "from src.functions import *\n"
   ]
  },
  {
   "cell_type": "code",
   "execution_count": 13,
   "id": "016f350e-1f57-4a99-867a-24692bbba922",
   "metadata": {},
   "outputs": [],
   "source": [
    "def test_my_water_features():\n",
    "    \"\"\"tests the \"my_water_features\" function to check if outputs are valid\"\"\"\n",
    "    assert len(features) == rivers + ocean + lakes \n",
    "\n"
   ]
  },
  {
   "cell_type": "code",
   "execution_count": 14,
   "id": "f0ad73b0-a48e-45d8-beb9-7b2834720670",
   "metadata": {},
   "outputs": [],
   "source": [
    "# def test_my_coastlines():\n",
    "#     \"\"\"Tests the \"my_coastlines\" function to check if the preconditions are valid\"\"\" \n",
    "#     res = [my_coastlines(\"10m\"), my_coastlines(\"50m\"), my_coastlines(\"110m\")] \n",
    "#     assert not res.list, \"resolution\"\n"
   ]
  },
  {
   "cell_type": "code",
   "execution_count": 15,
   "id": "f0716257-5249-4685-9b7c-fcbc31ac809d",
   "metadata": {},
   "outputs": [
    {
     "name": "stdout",
     "output_type": "stream",
     "text": [
      "\u001b[1m============================= test session starts ==============================\u001b[0m\n",
      "platform linux -- Python 3.9.7, pytest-7.1.2, pluggy-1.0.0\n",
      "rootdir: /home/jupyter-u6947170/EMSC-4033-2022-assignment-Group3/Ana\n",
      "plugins: anyio-3.5.0\n",
      "collected 0 items / 1 error                                                    \u001b[0m\u001b[1m\n",
      "\n",
      "==================================== ERRORS ====================================\n",
      "\u001b[31m\u001b[1m___________________ ERROR collecting tests/test_functions.py ___________________\u001b[0m\n",
      "\u001b[1m\u001b[31mtests/test_functions.py\u001b[0m:24: in <module>\n",
      "    test_my_coastlines()\n",
      "\u001b[1m\u001b[31mtests/test_functions.py\u001b[0m:14: in test_my_coastlines\n",
      "    \u001b[94massert\u001b[39;49;00m \u001b[95mnot\u001b[39;49;00m res.list, \u001b[33m\"\u001b[39;49;00m\u001b[33mresolution\u001b[39;49;00m\u001b[33m\"\u001b[39;49;00m\n",
      "\u001b[1m\u001b[31mE   AttributeError: 'list' object has no attribute 'list'\u001b[0m\n",
      "=========================== short test summary info ============================\n",
      "ERROR tests/test_functions.py - AttributeError: 'list' object has no attribut...\n",
      "!!!!!!!!!!!!!!!!!!!! Interrupted: 1 error during collection !!!!!!!!!!!!!!!!!!!!\n",
      "\u001b[31m=============================== \u001b[31m\u001b[1m1 error\u001b[0m\u001b[31m in 1.35s\u001b[0m\u001b[31m ===============================\u001b[0m\n"
     ]
    }
   ],
   "source": [
    "! pytest"
   ]
  },
  {
   "cell_type": "code",
   "execution_count": null,
   "id": "4f45ffbf-8abb-46c6-9b9c-47498914f3b4",
   "metadata": {},
   "outputs": [],
   "source": []
  }
 ],
 "metadata": {
  "kernelspec": {
   "display_name": "Python 3 (ipykernel)",
   "language": "python",
   "name": "python3"
  },
  "language_info": {
   "codemirror_mode": {
    "name": "ipython",
    "version": 3
   },
   "file_extension": ".py",
   "mimetype": "text/x-python",
   "name": "python",
   "nbconvert_exporter": "python",
   "pygments_lexer": "ipython3",
   "version": "3.9.7"
  }
 },
 "nbformat": 4,
 "nbformat_minor": 5
}
