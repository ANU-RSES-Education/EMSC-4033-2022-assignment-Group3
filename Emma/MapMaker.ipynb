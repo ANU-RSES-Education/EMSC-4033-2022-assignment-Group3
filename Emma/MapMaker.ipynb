{
 "cells": [
  {
   "cell_type": "markdown",
   "id": "d106df25",
   "metadata": {},
   "source": [
    "# Making a map using the on-demand mapping services for a basemap and super-imposing some data\n",
    "\n",
    "## Background \n",
    "\n",
    "The most familiar mapping services are those we often use to navigate with our phones for example: google maps. The difference between google maps and many of the examples we have looked at so far is that we do not download data in advance, process it and then create a map. Instead we have access to data when we need it and a a _relevant_ resolution. If we want to make a global map that is 1000 pixels across then Australia is probably just a few dozen pixels wide. If we instead decide to make a map to navigate across Melbourne, then a much higher resolution is needed _but only within the boundary of the map_. \n",
    "\n",
    "`Cartopy` provides access to various of the online mapping services that will serve image data on demand in the form of small image tiles at a specified resolution. The tools automatically query the service and assemble the tiles to make the map but there are some tricks that we need to know before we can use them.\n",
    "\n",
    "## Exercise\n",
    "\n",
    "This notebook is a template that needs to have some functions defined that it can use to plot the map.\n",
    "\n",
    "Your job is to provide those functions so that this notebook will work. You are not going to change this notebook at all !"
   ]
  },
  {
   "cell_type": "code",
   "execution_count": 1,
   "id": "a72c2b2d-79b7-4cfd-938a-a65a2e457a01",
   "metadata": {},
   "outputs": [],
   "source": [
    "from src.dependencies import *\n",
    "from src.my_functions import *"
   ]
  },
  {
   "cell_type": "code",
   "execution_count": 2,
   "id": "952440f8-2180-49c3-8a70-00edba4db37a",
   "metadata": {},
   "outputs": [
    {
     "data": {
      "text/markdown": [
       "   \n",
       "# Haec progressio est tabula faciens\n",
       "    \n",
       "## Moderni progressio programmandi \n",
       "\n",
       "Moderni programmandi rationem habet organicam, accumsan sentientem, ut mirum inveniat. \n",
       "In hoc cursu discimus quomodo per laminis perlegere discamus quomodo programmata aedificent et \n",
       "quomodo nostra edificent. Incipiamus cum aliquibus praecipuis quaestionibus. \n",
       "\n",
       "## Quid computatorium ? \n",
       "\n",
       "Computatorium classicum est machina alicuius generis ad informationes \n",
       "puras expediendas. Varia elementa opus sunt ad hoc possibilis efficiendum, \n",
       "inter quas aliqua instrumenta initialisendi et recondendi informationes ante \n",
       "et post discursum est, et ma- china ad informationes expediendas (including casus \n",
       "ubi processus pendet ab ipsa informatione). Multae variae machinis his criteriis \n",
       "occurrere possunt, sed plerumque unam saltem exigentiam adiungimus:\n",
       "\n",
       "## Aequationes mathematicae \n",
       "\n",
       "Per \"Navier-Stokes\" datae sunt\n",
       "\n",
       "$$\n",
       "    \\frac{D \\mathbf{u}}{Dt} -\\nabla \\cdot \\eta \\left( \\nabla \\mathbf{u} + \n",
       "    \\nabla \\mathbf{u}^T \\right) - \\nabla p = \\cdots\n",
       "$$\n",
       "\n",
       "\n",
       "## `Python` documentum\n",
       "\n",
       "Python hic est aliquis codicem quem animum advertere volumus\n",
       "\n",
       "```python\n",
       "# The classic \"hello world\" program\n",
       "print(\"salve mundi !\")\n",
       "```\n"
      ]
     },
     "metadata": {},
     "output_type": "display_data"
    }
   ],
   "source": [
    "display_markdown(my_documentation(), raw=True)"
   ]
  },
  {
   "cell_type": "markdown",
   "id": "6d319b4b-06f7-4c43-a57b-9e9768b61212",
   "metadata": {},
   "source": [
    "## The code !"
   ]
  },
  {
   "cell_type": "code",
   "execution_count": 3,
   "id": "3cc25553-9351-4d76-926f-fda3f373ebbc",
   "metadata": {},
   "outputs": [],
   "source": [
    "import warnings\n",
    "warnings.filterwarnings('ignore')"
   ]
  },
  {
   "cell_type": "code",
   "execution_count": 4,
   "id": "d802468a-a6e3-4310-ab7e-39e4af1212ec",
   "metadata": {},
   "outputs": [],
   "source": [
    "# Specify a region of interest\n",
    "\n",
    "lat0 =  30  ; lat1 = 40\n",
    "lon0 =  -123; lon1 = -113\n",
    "\n",
    "map_extent = [lon0, lon1, lat0, lat1]\n",
    "basemap_name = \"mapbox_outdoors\""
   ]
  },
  {
   "cell_type": "code",
   "execution_count": 5,
   "id": "6638b195-3cd1-4e66-ab50-4eaaee8db3b2",
   "metadata": {},
   "outputs": [],
   "source": [
    "coastline = my_coastlines(\"10m\")\n",
    "water_features = my_water_features(\"50m\")"
   ]
  },
  {
   "cell_type": "code",
   "execution_count": 6,
   "id": "464f3518-8e72-443e-ac62-0c324a02ab3e",
   "metadata": {},
   "outputs": [],
   "source": [
    "map_tiles_dictionary = my_basemaps()"
   ]
  },
  {
   "cell_type": "code",
   "execution_count": 7,
   "id": "1fa7339d-6f8b-4a8f-bc4f-4973426e6571",
   "metadata": {},
   "outputs": [
    {
     "name": "stdout",
     "output_type": "stream",
     "text": [
      "Point data: 132 events in catalogue\n",
      "[[-1.220860e+02  3.820100e+01  1.300000e+04  6.100000e+00  2.014000e+03]\n",
      " [-1.196273e+02  3.111220e+01  1.580000e+04  6.400000e+00  2.012000e+03]\n",
      " [-1.155541e+02  3.303370e+01  2.400000e+03  5.500000e+00  2.012000e+03]\n",
      " [-1.165054e+02  3.338090e+01  7.000000e+03  5.500000e+00  2.010000e+03]\n",
      " [-1.159318e+02  3.268540e+01  5.300000e+03  5.800000e+00  2.010000e+03]\n",
      " [-1.152633e+02  3.227640e+01  5.200000e+03  7.200000e+00  2.010000e+03]\n",
      " [-1.152387e+02  3.250410e+01  7.400000e+03  5.900000e+00  2.009000e+03]\n",
      " [-1.178730e+02  3.382690e+01  1.620000e+04  5.500000e+00  2.008000e+03]\n",
      " [-1.218639e+02  3.731280e+01  1.000000e+04  5.600000e+00  2.007000e+03]\n",
      " [-1.202942e+02  3.579440e+01  8.800000e+03  6.000000e+00  2.004000e+03]\n",
      " [-1.210549e+02  3.566530e+01  1.000000e+04  6.600000e+00  2.003000e+03]\n",
      " [-1.151870e+02  3.238400e+01  7.000000e+03  5.500000e+00  2.002000e+03]\n",
      " [-1.149510e+02  3.216100e+01  1.630000e+04  5.800000e+00  2.001000e+03]\n",
      " [-1.164420e+02  3.457800e+01  0.000000e+00  7.200000e+00  1.999000e+03]\n",
      " [-1.170830e+02  3.737200e+01  1.840000e+04  5.700000e+00  1.999000e+03]\n",
      " [-1.188060e+02  3.749000e+01  5.800000e+03  5.600000e+00  1.999000e+03]\n",
      " [-1.188572e+02  3.764510e+01  8.400000e+03  5.500000e+00  1.998000e+03]\n",
      " [-1.176423e+02  3.569280e+01  5.000000e+03  5.500000e+00  1.995000e+03]\n",
      " [-1.196452e+02  3.884030e+01  1.400000e+04  6.100000e+00  1.994000e+03]\n",
      " [-1.187946e+02  3.423330e+01  1.000000e+04  5.900000e+00  1.994000e+03]\n",
      " [-1.185826e+02  3.413600e+01  1.590000e+04  6.700000e+00  1.994000e+03]\n",
      " [-1.178111e+02  3.712780e+01  2.590000e+04  6.100000e+00  1.993000e+03]\n",
      " [-1.135063e+02  3.702080e+01  2.970000e+04  5.700000e+00  1.992000e+03]\n",
      " [-1.169087e+02  3.425470e+01  1.000000e+02  5.600000e+00  1.992000e+03]\n",
      " [-1.163068e+02  3.671400e+01  9.200000e+03  5.600000e+00  1.992000e+03]\n",
      " [-1.167825e+02  3.426950e+01  1.000000e+04  6.300000e+00  1.992000e+03]\n",
      " [-1.169475e+02  3.418860e+01  1.850000e+04  5.500000e+00  1.992000e+03]\n",
      " [-1.164781e+02  3.424830e+01  1.100000e+03  7.200000e+00  1.992000e+03]\n",
      " [-1.164840e+02  3.390820e+01  1.240000e+04  6.200000e+00  1.992000e+03]\n",
      " [-1.163600e+02  3.727200e+01  0.000000e+00  5.500000e+00  1.992000e+03]\n",
      " [-1.164280e+02  3.722600e+01  0.000000e+00  5.500000e+00  1.991000e+03]\n",
      " [-1.180257e+02  3.423580e+01  1.060000e+04  5.800000e+00  1.991000e+03]\n",
      " [-1.163130e+02  3.729600e+01  0.000000e+00  5.600000e+00  1.991000e+03]\n",
      " [-1.164940e+02  3.724800e+01  0.000000e+00  5.600000e+00  1.990000e+03]\n",
      " [-1.164200e+02  3.726200e+01  0.000000e+00  5.700000e+00  1.990000e+03]\n",
      " [-1.177305e+02  3.414230e+01  6.300000e+03  5.500000e+00  1.990000e+03]\n",
      " [-1.164090e+02  3.723100e+01  0.000000e+00  5.500000e+00  1.989000e+03]\n",
      " [-1.164910e+02  3.726300e+01  0.000000e+00  5.700000e+00  1.989000e+03]\n",
      " [-1.217895e+02  3.706080e+01  7.600000e+03  6.900000e+00  1.989000e+03]\n",
      " [-1.160490e+02  3.708900e+01  0.000000e+00  5.900000e+00  1.988000e+03]\n",
      " [-1.163070e+02  3.729700e+01  0.000000e+00  5.500000e+00  1.988000e+03]\n",
      " [-1.163770e+02  3.725200e+01  0.000000e+00  5.600000e+00  1.988000e+03]\n",
      " [-1.160204e+02  3.312300e+01  2.000000e+03  6.500000e+00  1.987000e+03]\n",
      " [-1.156520e+02  3.323210e+01  5.000000e+03  5.900000e+00  1.987000e+03]\n",
      " [-1.181599e+02  3.405170e+01  1.660000e+04  5.900000e+00  1.987000e+03]\n",
      " [-1.163750e+02  3.722800e+01  0.000000e+00  5.700000e+00  1.987000e+03]\n",
      " [-1.160450e+02  3.706100e+01  0.000000e+00  5.900000e+00  1.987000e+03]\n",
      " [-1.164230e+02  3.723300e+01  0.000000e+00  5.500000e+00  1.987000e+03]\n",
      " [-1.165090e+02  3.724800e+01  0.000000e+00  5.500000e+00  1.987000e+03]\n",
      " [-1.164120e+02  3.726300e+01  0.000000e+00  5.500000e+00  1.986000e+03]\n",
      " [-1.160480e+02  3.710000e+01  0.000000e+00  5.800000e+00  1.986000e+03]\n",
      " [-1.164620e+02  3.722000e+01  0.000000e+00  5.600000e+00  1.986000e+03]\n",
      " [-1.163070e+02  3.730000e+01  0.000000e+00  5.500000e+00  1.986000e+03]\n",
      " [-1.183916e+02  3.746210e+01  7.000000e+03  5.500000e+00  1.986000e+03]\n",
      " [-1.184947e+02  3.765210e+01  1.760000e+04  5.500000e+00  1.986000e+03]\n",
      " [-1.184416e+02  3.752610e+01  3.000000e+02  6.300000e+00  1.986000e+03]\n",
      " [-1.184275e+02  3.750060e+01  6.000000e+03  5.600000e+00  1.986000e+03]\n",
      " [-1.163560e+02  3.727900e+01  0.000000e+00  5.700000e+00  1.986000e+03]\n",
      " [-1.178757e+02  3.307560e+01  1.000000e+04  5.600000e+00  1.986000e+03]\n",
      " [-1.167254e+02  3.401320e+01  7.900000e+03  6.200000e+00  1.986000e+03]\n",
      " [-1.164990e+02  3.726500e+01  0.000000e+00  5.500000e+00  1.986000e+03]\n",
      " [-1.216169e+02  3.752510e+01  3.000000e+02  5.500000e+00  1.986000e+03]\n",
      " [-1.160450e+02  3.705300e+01  0.000000e+00  5.700000e+00  1.985000e+03]\n",
      " [-1.164890e+02  3.724800e+01  0.000000e+00  5.500000e+00  1.985000e+03]\n",
      " [-1.163250e+02  3.725300e+01  0.000000e+00  5.700000e+00  1.985000e+03]\n",
      " [-1.160320e+02  3.709500e+01  0.000000e+00  5.700000e+00  1.985000e+03]\n",
      " [-1.164980e+02  3.727000e+01  0.000000e+00  5.500000e+00  1.984000e+03]\n",
      " [-1.184725e+02  3.736830e+01  1.500000e+04  5.600000e+00  1.984000e+03]\n",
      " [-1.160480e+02  3.710300e+01  0.000000e+00  5.800000e+00  1.984000e+03]\n",
      " [-1.217197e+02  3.725840e+01  8.000000e+03  5.700000e+00  1.984000e+03]\n",
      " [-1.160460e+02  3.706600e+01  0.000000e+00  5.900000e+00  1.984000e+03]\n",
      " [-1.204167e+02  3.613830e+01  8.700000e+03  5.600000e+00  1.983000e+03]\n",
      " [-1.203653e+02  3.621060e+01  9.000000e+03  6.000000e+00  1.983000e+03]\n",
      " [-1.203091e+02  3.606290e+01  8.000000e+03  5.500000e+00  1.983000e+03]\n",
      " [-1.202700e+02  3.623770e+01  6.800000e+03  6.200000e+00  1.983000e+03]\n",
      " [-1.160460e+02  3.707300e+01  0.000000e+00  5.700000e+00  1.983000e+03]\n",
      " [-1.160070e+02  3.708400e+01  0.000000e+00  5.700000e+00  1.982000e+03]\n",
      " [-1.163700e+02  3.723600e+01  0.000000e+00  5.600000e+00  1.982000e+03]\n",
      " [-1.160450e+02  3.706900e+01  0.000000e+00  5.700000e+00  1.982000e+03]\n",
      " [-1.163160e+02  3.734800e+01  0.000000e+00  5.600000e+00  1.982000e+03]\n",
      " [-1.160510e+02  3.709100e+01  0.000000e+00  5.900000e+00  1.982000e+03]\n",
      " [-1.188231e+02  3.757300e+01  0.000000e+00  5.600000e+00  1.981000e+03]\n",
      " [-1.163260e+02  3.730300e+01  0.000000e+00  5.500000e+00  1.981000e+03]\n",
      " [-1.156574e+02  3.309640e+01  6.000000e+03  5.500000e+00  1.981000e+03]\n",
      " [-1.160450e+02  3.708700e+01  0.000000e+00  5.600000e+00  1.981000e+03]\n",
      " [-1.164769e+02  3.725600e+01  0.000000e+00  5.500000e+00  1.980000e+03]\n",
      " [-1.164539e+02  3.728200e+01  0.000000e+00  5.600000e+00  1.980000e+03]\n",
      " [-1.149164e+02  3.231860e+01  0.000000e+00  5.600000e+00  1.980000e+03]\n",
      " [-1.187783e+02  3.749270e+01  2.230000e+04  5.700000e+00  1.980000e+03]\n",
      " [-1.188158e+02  3.744930e+01  0.000000e+00  5.500000e+00  1.980000e+03]\n",
      " [-1.189892e+02  3.755670e+01  1.600000e+03  5.500000e+00  1.980000e+03]\n",
      " [-1.188022e+02  3.759520e+01  0.000000e+00  6.100000e+00  1.980000e+03]\n",
      " [-1.154615e+02  3.285520e+01  0.000000e+00  5.700000e+00  1.979000e+03]\n",
      " [-1.163599e+02  3.723000e+01           nan  5.600000e+00  1.979000e+03]\n",
      " [-1.160499e+02  3.709000e+01           nan  5.800000e+00  1.979000e+03]\n",
      " [-1.164599e+02  3.729000e+01           nan  5.500000e+00  1.979000e+03]\n",
      " [-1.164884e+02  3.426620e+01  1.000000e+03  5.500000e+00  1.979000e+03]\n",
      " [-1.160549e+02  3.710200e+01  0.000000e+00  5.500000e+00  1.979000e+03]\n",
      " [-1.164099e+02  3.727000e+01           nan  5.500000e+00  1.978000e+03]\n",
      " [-1.160199e+02  3.707000e+01  0.000000e+00  5.700000e+00  1.978000e+03]\n",
      " [-1.163599e+02  3.727000e+01  0.000000e+00  5.600000e+00  1.978000e+03]\n",
      " [-1.196634e+02  3.440250e+01  8.900000e+03  5.500000e+00  1.978000e+03]\n",
      " [-1.160399e+02  3.708000e+01           nan  5.500000e+00  1.978000e+03]\n",
      " [-1.163699e+02  3.723000e+01           nan  5.500000e+00  1.978000e+03]\n",
      " [-1.160499e+02  3.710000e+01           nan  5.600000e+00  1.978000e+03]\n",
      " [-1.160599e+02  3.712000e+01           nan  5.600000e+00  1.978000e+03]\n",
      " [-1.160899e+02  3.713000e+01           nan  5.700000e+00  1.977000e+03]\n",
      " [-1.160499e+02  3.707000e+01           nan  5.700000e+00  1.977000e+03]\n",
      " [-1.160499e+02  3.711000e+01           nan  5.600000e+00  1.977000e+03]\n",
      " [-1.160599e+02  3.712000e+01           nan  5.600000e+00  1.977000e+03]\n",
      " [-1.160399e+02  3.710000e+01           nan  5.500000e+00  1.976000e+03]\n",
      " [-1.148577e+02  3.207370e+01  1.080000e+04  5.500000e+00  1.976000e+03]\n",
      " [-1.160499e+02  3.711000e+01           nan  5.800000e+00  1.976000e+03]\n",
      " [-1.163099e+02  3.726000e+01           nan  6.100000e+00  1.976000e+03]\n",
      " [-1.164699e+02  3.731000e+01           nan  6.300000e+00  1.976000e+03]\n",
      " [-1.163599e+02  3.731000e+01           nan  6.000000e+00  1.976000e+03]\n",
      " [-1.164199e+02  3.724000e+01           nan  6.000000e+00  1.976000e+03]\n",
      " [-1.164899e+02  3.727000e+01           nan  6.300000e+00  1.976000e+03]\n",
      " [-1.160399e+02  3.711000e+01           nan  5.700000e+00  1.976000e+03]\n",
      " [-1.160299e+02  3.707000e+01           nan  5.800000e+00  1.976000e+03]\n",
      " [-1.163299e+02  3.730000e+01           nan  6.200000e+00  1.976000e+03]\n",
      " [-1.160599e+02  3.712000e+01           nan  5.700000e+00  1.975000e+03]\n",
      " [-1.163699e+02  3.722000e+01           nan  6.000000e+00  1.975000e+03]\n",
      " [-1.164099e+02  3.728000e+01           nan  6.400000e+00  1.975000e+03]\n",
      " [-1.214742e+02  3.949750e+01  1.440000e+04  5.800000e+00  1.975000e+03]\n",
      " [-1.163699e+02  3.727000e+01           nan  6.200000e+00  1.975000e+03]\n",
      " [-1.163199e+02  3.735000e+01           nan  6.100000e+00  1.975000e+03]\n",
      " [-1.160299e+02  3.709000e+01           nan  5.700000e+00  1.975000e+03]\n",
      " [-1.165199e+02  3.733000e+01           nan  5.900000e+00  1.975000e+03]\n",
      " [-1.164699e+02  3.722000e+01           nan  6.000000e+00  1.975000e+03]\n",
      " [-1.160799e+02  3.713000e+01           nan  5.500000e+00  1.975000e+03]\n",
      " [-1.160599e+02  3.711000e+01  0.000000e+00  5.700000e+00  1.975000e+03]]\n"
     ]
    }
   ],
   "source": [
    "point_data = my_point_data(map_extent)\n",
    "\n",
    "print(point_data)"
   ]
  },
  {
   "cell_type": "code",
   "execution_count": 9,
   "id": "8f5e57ab-5cfc-4f46-a1c4-e5b0e2ca8c90",
   "metadata": {},
   "outputs": [
    {
     "name": "stdout",
     "output_type": "stream",
     "text": [
      "Cloudstore connection established\n",
      "Remote and local file size both 21.99 MB, skipping - Resources/global_age_data.3.6.z.npz\n",
      "[[[-180.         90.         55.569202]\n",
      "  [-179.9        90.         55.56879 ]\n",
      "  [-179.8        90.         55.568138]\n",
      "  ...\n",
      "  [ 179.8        90.         55.416157]\n",
      "  [ 179.9        90.         55.416164]\n",
      "  [ 180.         90.         55.41626 ]]\n",
      "\n",
      " [[-180.         89.9        55.370914]\n",
      "  [-179.9        89.9        55.371075]\n",
      "  [-179.8        89.9        55.361431]\n",
      "  ...\n",
      "  [ 179.8        89.9        55.363701]\n",
      "  [ 179.9        89.9        55.363701]\n",
      "  [ 180.         89.9        55.3643  ]]\n",
      "\n",
      " [[-180.         89.8        55.566631]\n",
      "  [-179.9        89.8        55.547897]\n",
      "  [-179.8        89.8        55.605961]\n",
      "  ...\n",
      "  [ 179.8        89.8        55.555347]\n",
      "  [ 179.9        89.8        55.561535]\n",
      "  [ 180.         89.8        55.566044]]\n",
      "\n",
      " ...\n",
      "\n",
      " [[-180.        -89.8              nan]\n",
      "  [-179.9       -89.8              nan]\n",
      "  [-179.8       -89.8              nan]\n",
      "  ...\n",
      "  [ 179.8       -89.8              nan]\n",
      "  [ 179.9       -89.8              nan]\n",
      "  [ 180.        -89.8              nan]]\n",
      "\n",
      " [[-180.        -89.9              nan]\n",
      "  [-179.9       -89.9              nan]\n",
      "  [-179.8       -89.9              nan]\n",
      "  ...\n",
      "  [ 179.8       -89.9              nan]\n",
      "  [ 179.9       -89.9              nan]\n",
      "  [ 180.        -89.9              nan]]\n",
      "\n",
      " [[-180.        -90.               nan]\n",
      "  [-179.9       -90.               nan]\n",
      "  [-179.8       -90.               nan]\n",
      "  ...\n",
      "  [ 179.8       -90.               nan]\n",
      "  [ 179.9       -90.               nan]\n",
      "  [ 180.        -90.               nan]]]\n"
     ]
    }
   ],
   "source": [
    "raster = my_global_raster_data()\n",
    "\n",
    "print(raster)"
   ]
  },
  {
   "cell_type": "code",
   "execution_count": 10,
   "id": "dac68bcb-0a84-43e2-9908-64fd4e343d2f",
   "metadata": {},
   "outputs": [],
   "source": [
    "## specify some shapefile data (?)"
   ]
  },
  {
   "cell_type": "code",
   "execution_count": null,
   "id": "719b0d0f-4151-4782-89b4-9e8b3171c22b",
   "metadata": {
    "tags": []
   },
   "outputs": [],
   "source": [
    "map_tiles = map_tiles_dictionary[\"basemap_name\"]\n",
    "\n",
    "fig = plt.figure(figsize=(12, 12), facecolor=\"none\")\n",
    "\n",
    "# Create a GeoAxes in the tile's projection.\n",
    "ax = plt.axes(projection=map_tiles.crs)\n",
    "\n",
    "# Set the size of the map\n",
    "ax.set_extent(map_extent)\n",
    "# Add the on-demand image - the second argument is the resolution and needs to be balanced with the \n",
    "# size of the area the map covers. \n",
    "\n",
    "ax.add_image(map_tiles, 8)\n",
    "ax.add_feature(coastline, linewidth=1.5,  edgecolor=\"Black\", zorder=1, alpha=0.5)\n",
    "for feature in water_features:\n",
    "    ax.add_feature(feature,    linewidth=1.0,  edgecolor=\"Blue\",  zorder=2, alpha=0.5)\n",
    "    \n",
    "## Add point data (lon, lat,colormapped variable, size variable)\n",
    "ax.scatter(point_data[:,0], point_data[:,1], 10.0* point_data[:,3], c=point_data[:,2], marker='o', \n",
    "               cmap=cm.RdYlBu_r, alpha = 0.85, linewidth=0.5, transform=ccrs.Geodetic())\n",
    "\n",
    "\n",
    "## Add raster data as contours\n",
    "\n",
    "cf = ax.contourf(raster[:,:,0], raster[:,:,1], raster[:,:,2], \n",
    "         levels = np.arange(0.5,250,10), vmin=0, vmax=150,\n",
    "         transform=ccrs.PlateCarree(),  cmap=\"RdYlBu\",zorder=2, alpha=0.75)\n",
    "\n"
   ]
  },
  {
   "cell_type": "code",
   "execution_count": null,
   "id": "b9209052",
   "metadata": {},
   "outputs": [],
   "source": [
    "fig.savefig(\"LA_Basin_Map.png\", dpi=600)"
   ]
  },
  {
   "cell_type": "markdown",
   "id": "2416b806",
   "metadata": {},
   "source": [
    "See how well that worked by opening the [full-size image](./LA_Basin_Map.png). \n",
    "\n",
    "There really is a lot of detail available, but you can also see how long it takes to download and build the different resolutions. There is something of an art to finding the right balance. \n",
    "\n",
    "You may also find that very high resolution output results in memory errors. If so, restart the kernel and try again with a small image or lower dpi."
   ]
  },
  {
   "cell_type": "code",
   "execution_count": null,
   "id": "e0c34882-5041-48ad-b9bc-a742ecf21e8a",
   "metadata": {},
   "outputs": [],
   "source": []
  },
  {
   "cell_type": "code",
   "execution_count": null,
   "id": "3c59f79a-5299-4c0f-b8e0-27fcda5ea908",
   "metadata": {},
   "outputs": [],
   "source": []
  },
  {
   "cell_type": "code",
   "execution_count": null,
   "id": "1201d726-b5c8-49b7-be0a-0977ed8b8310",
   "metadata": {},
   "outputs": [],
   "source": []
  },
  {
   "cell_type": "code",
   "execution_count": null,
   "id": "fd2dfcd3-9210-4518-aee0-b48fbbab887e",
   "metadata": {},
   "outputs": [],
   "source": []
  }
 ],
 "metadata": {
  "kernelspec": {
   "display_name": "Python 3 (ipykernel)",
   "language": "python",
   "name": "python3"
  },
  "language_info": {
   "codemirror_mode": {
    "name": "ipython",
    "version": 3
   },
   "file_extension": ".py",
   "mimetype": "text/x-python",
   "name": "python",
   "nbconvert_exporter": "python",
   "pygments_lexer": "ipython3",
   "version": "3.9.7"
  }
 },
 "nbformat": 4,
 "nbformat_minor": 5
}
