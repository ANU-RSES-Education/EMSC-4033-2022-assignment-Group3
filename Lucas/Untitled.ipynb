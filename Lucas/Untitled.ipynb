{
 "cells": [
  {
   "cell_type": "code",
   "execution_count": 20,
   "id": "7853cd11-579f-4900-814a-09da4331a837",
   "metadata": {},
   "outputs": [
    {
     "data": {
      "text/plain": [
       "\u001b[0;31mSignature:\u001b[0m\n",
       "\u001b[0mclient\u001b[0m\u001b[0;34m.\u001b[0m\u001b[0mget_events\u001b[0m\u001b[0;34m(\u001b[0m\u001b[0;34m\u001b[0m\n",
       "\u001b[0;34m\u001b[0m    \u001b[0mstarttime\u001b[0m\u001b[0;34m=\u001b[0m\u001b[0;32mNone\u001b[0m\u001b[0;34m,\u001b[0m\u001b[0;34m\u001b[0m\n",
       "\u001b[0;34m\u001b[0m    \u001b[0mendtime\u001b[0m\u001b[0;34m=\u001b[0m\u001b[0;32mNone\u001b[0m\u001b[0;34m,\u001b[0m\u001b[0;34m\u001b[0m\n",
       "\u001b[0;34m\u001b[0m    \u001b[0mminlatitude\u001b[0m\u001b[0;34m=\u001b[0m\u001b[0;32mNone\u001b[0m\u001b[0;34m,\u001b[0m\u001b[0;34m\u001b[0m\n",
       "\u001b[0;34m\u001b[0m    \u001b[0mmaxlatitude\u001b[0m\u001b[0;34m=\u001b[0m\u001b[0;32mNone\u001b[0m\u001b[0;34m,\u001b[0m\u001b[0;34m\u001b[0m\n",
       "\u001b[0;34m\u001b[0m    \u001b[0mminlongitude\u001b[0m\u001b[0;34m=\u001b[0m\u001b[0;32mNone\u001b[0m\u001b[0;34m,\u001b[0m\u001b[0;34m\u001b[0m\n",
       "\u001b[0;34m\u001b[0m    \u001b[0mmaxlongitude\u001b[0m\u001b[0;34m=\u001b[0m\u001b[0;32mNone\u001b[0m\u001b[0;34m,\u001b[0m\u001b[0;34m\u001b[0m\n",
       "\u001b[0;34m\u001b[0m    \u001b[0mlatitude\u001b[0m\u001b[0;34m=\u001b[0m\u001b[0;32mNone\u001b[0m\u001b[0;34m,\u001b[0m\u001b[0;34m\u001b[0m\n",
       "\u001b[0;34m\u001b[0m    \u001b[0mlongitude\u001b[0m\u001b[0;34m=\u001b[0m\u001b[0;32mNone\u001b[0m\u001b[0;34m,\u001b[0m\u001b[0;34m\u001b[0m\n",
       "\u001b[0;34m\u001b[0m    \u001b[0mminradius\u001b[0m\u001b[0;34m=\u001b[0m\u001b[0;32mNone\u001b[0m\u001b[0;34m,\u001b[0m\u001b[0;34m\u001b[0m\n",
       "\u001b[0;34m\u001b[0m    \u001b[0mmaxradius\u001b[0m\u001b[0;34m=\u001b[0m\u001b[0;32mNone\u001b[0m\u001b[0;34m,\u001b[0m\u001b[0;34m\u001b[0m\n",
       "\u001b[0;34m\u001b[0m    \u001b[0mmindepth\u001b[0m\u001b[0;34m=\u001b[0m\u001b[0;32mNone\u001b[0m\u001b[0;34m,\u001b[0m\u001b[0;34m\u001b[0m\n",
       "\u001b[0;34m\u001b[0m    \u001b[0mmaxdepth\u001b[0m\u001b[0;34m=\u001b[0m\u001b[0;32mNone\u001b[0m\u001b[0;34m,\u001b[0m\u001b[0;34m\u001b[0m\n",
       "\u001b[0;34m\u001b[0m    \u001b[0mminmagnitude\u001b[0m\u001b[0;34m=\u001b[0m\u001b[0;32mNone\u001b[0m\u001b[0;34m,\u001b[0m\u001b[0;34m\u001b[0m\n",
       "\u001b[0;34m\u001b[0m    \u001b[0mmaxmagnitude\u001b[0m\u001b[0;34m=\u001b[0m\u001b[0;32mNone\u001b[0m\u001b[0;34m,\u001b[0m\u001b[0;34m\u001b[0m\n",
       "\u001b[0;34m\u001b[0m    \u001b[0mmagnitudetype\u001b[0m\u001b[0;34m=\u001b[0m\u001b[0;32mNone\u001b[0m\u001b[0;34m,\u001b[0m\u001b[0;34m\u001b[0m\n",
       "\u001b[0;34m\u001b[0m    \u001b[0meventtype\u001b[0m\u001b[0;34m=\u001b[0m\u001b[0;32mNone\u001b[0m\u001b[0;34m,\u001b[0m\u001b[0;34m\u001b[0m\n",
       "\u001b[0;34m\u001b[0m    \u001b[0mincludeallorigins\u001b[0m\u001b[0;34m=\u001b[0m\u001b[0;32mNone\u001b[0m\u001b[0;34m,\u001b[0m\u001b[0;34m\u001b[0m\n",
       "\u001b[0;34m\u001b[0m    \u001b[0mincludeallmagnitudes\u001b[0m\u001b[0;34m=\u001b[0m\u001b[0;32mNone\u001b[0m\u001b[0;34m,\u001b[0m\u001b[0;34m\u001b[0m\n",
       "\u001b[0;34m\u001b[0m    \u001b[0mincludearrivals\u001b[0m\u001b[0;34m=\u001b[0m\u001b[0;32mNone\u001b[0m\u001b[0;34m,\u001b[0m\u001b[0;34m\u001b[0m\n",
       "\u001b[0;34m\u001b[0m    \u001b[0meventid\u001b[0m\u001b[0;34m=\u001b[0m\u001b[0;32mNone\u001b[0m\u001b[0;34m,\u001b[0m\u001b[0;34m\u001b[0m\n",
       "\u001b[0;34m\u001b[0m    \u001b[0mlimit\u001b[0m\u001b[0;34m=\u001b[0m\u001b[0;32mNone\u001b[0m\u001b[0;34m,\u001b[0m\u001b[0;34m\u001b[0m\n",
       "\u001b[0;34m\u001b[0m    \u001b[0moffset\u001b[0m\u001b[0;34m=\u001b[0m\u001b[0;32mNone\u001b[0m\u001b[0;34m,\u001b[0m\u001b[0;34m\u001b[0m\n",
       "\u001b[0;34m\u001b[0m    \u001b[0morderby\u001b[0m\u001b[0;34m=\u001b[0m\u001b[0;32mNone\u001b[0m\u001b[0;34m,\u001b[0m\u001b[0;34m\u001b[0m\n",
       "\u001b[0;34m\u001b[0m    \u001b[0mcatalog\u001b[0m\u001b[0;34m=\u001b[0m\u001b[0;32mNone\u001b[0m\u001b[0;34m,\u001b[0m\u001b[0;34m\u001b[0m\n",
       "\u001b[0;34m\u001b[0m    \u001b[0mcontributor\u001b[0m\u001b[0;34m=\u001b[0m\u001b[0;32mNone\u001b[0m\u001b[0;34m,\u001b[0m\u001b[0;34m\u001b[0m\n",
       "\u001b[0;34m\u001b[0m    \u001b[0mupdatedafter\u001b[0m\u001b[0;34m=\u001b[0m\u001b[0;32mNone\u001b[0m\u001b[0;34m,\u001b[0m\u001b[0;34m\u001b[0m\n",
       "\u001b[0;34m\u001b[0m    \u001b[0mfilename\u001b[0m\u001b[0;34m=\u001b[0m\u001b[0;32mNone\u001b[0m\u001b[0;34m,\u001b[0m\u001b[0;34m\u001b[0m\n",
       "\u001b[0;34m\u001b[0m    \u001b[0;34m**\u001b[0m\u001b[0mkwargs\u001b[0m\u001b[0;34m,\u001b[0m\u001b[0;34m\u001b[0m\n",
       "\u001b[0;34m\u001b[0m\u001b[0;34m)\u001b[0m\u001b[0;34m\u001b[0m\u001b[0;34m\u001b[0m\u001b[0m\n",
       "\u001b[0;31mDocstring:\u001b[0m\n",
       "Query the event service of the client.\n",
       "\n",
       ">>> client = Client(\"IRIS\")\n",
       ">>> cat = client.get_events(eventid=609301)\n",
       ">>> print(cat)\n",
       "1 Event(s) in Catalog:\n",
       "1997-10-14T09:53:11.070000Z | -22.145, -176.720 | 7.8 ...\n",
       "\n",
       "The return value is a :class:`~obspy.core.event.Catalog` object\n",
       "which can contain any number of events.\n",
       "\n",
       ">>> t1 = UTCDateTime(\"2001-01-07T00:00:00\")\n",
       ">>> t2 = UTCDateTime(\"2001-01-07T03:00:00\")\n",
       ">>> cat = client.get_events(starttime=t1, endtime=t2, minmagnitude=4,\n",
       "...                         catalog=\"ISC\")\n",
       ">>> print(cat)\n",
       "3 Event(s) in Catalog:\n",
       "2001-01-07T02:55:59.290000Z |  +9.801,  +76.548 | 4.9 ...\n",
       "2001-01-07T02:35:35.170000Z | -21.291,  -68.308 | 4.4 ...\n",
       "2001-01-07T00:09:25.630000Z | +22.946, -107.011 | 4.0 ...\n",
       "\n",
       ":type starttime: :class:`~obspy.core.utcdatetime.UTCDateTime`, optional\n",
       ":param starttime: Limit to events on or after the specified start time.\n",
       ":type endtime: :class:`~obspy.core.utcdatetime.UTCDateTime`, optional\n",
       ":param endtime: Limit to events on or before the specified end time.\n",
       ":type minlatitude: float, optional\n",
       ":param minlatitude: Limit to events with a latitude larger than the\n",
       "    specified minimum.\n",
       ":type maxlatitude: float, optional\n",
       ":param maxlatitude: Limit to events with a latitude smaller than the\n",
       "    specified maximum.\n",
       ":type minlongitude: float, optional\n",
       ":param minlongitude: Limit to events with a longitude larger than the\n",
       "    specified minimum.\n",
       ":type maxlongitude: float, optional\n",
       ":param maxlongitude: Limit to events with a longitude smaller than the\n",
       "    specified maximum.\n",
       ":type latitude: float, optional\n",
       ":param latitude: Specify the latitude to be used for a radius search.\n",
       ":type longitude: float, optional\n",
       ":param longitude: Specify the longitude to be used for a radius\n",
       "    search.\n",
       ":type minradius: float, optional\n",
       ":param minradius: Limit to events within the specified minimum number\n",
       "    of degrees from the geographic point defined by the latitude and\n",
       "    longitude parameters.\n",
       ":type maxradius: float, optional\n",
       ":param maxradius: Limit to events within the specified maximum number\n",
       "    of degrees from the geographic point defined by the latitude and\n",
       "    longitude parameters.\n",
       ":type mindepth: float, optional\n",
       ":param mindepth: Limit to events with depth, in kilometers, larger than\n",
       "    the specified minimum.\n",
       ":type maxdepth: float, optional\n",
       ":param maxdepth: Limit to events with depth, in kilometers, smaller\n",
       "    than the specified maximum.\n",
       ":type minmagnitude: float, optional\n",
       ":param minmagnitude: Limit to events with a magnitude larger than the\n",
       "    specified minimum.\n",
       ":type maxmagnitude: float, optional\n",
       ":param maxmagnitude: Limit to events with a magnitude smaller than the\n",
       "    specified maximum.\n",
       ":type magnitudetype: str, optional\n",
       ":param magnitudetype: Specify a magnitude type to use for testing the\n",
       "    minimum and maximum limits.\n",
       ":type eventtype: str, optional\n",
       ":param eventtype: Limit to events with a specified event type.\n",
       "    Multiple types are comma-separated (e.g.,\n",
       "    ``\"earthquake,quarry blast\"``). Allowed values are from QuakeML.\n",
       "    See :const:`obspy.core.event.header.EventType` for a list of\n",
       "    allowed event types.\n",
       ":type includeallorigins: bool, optional\n",
       ":param includeallorigins: Specify if all origins for the event should\n",
       "    be included, default is data center dependent but is suggested to\n",
       "    be the preferred origin only.\n",
       ":type includeallmagnitudes: bool, optional\n",
       ":param includeallmagnitudes: Specify if all magnitudes for the event\n",
       "    should be included, default is data center dependent but is\n",
       "    suggested to be the preferred magnitude only.\n",
       ":type includearrivals: bool, optional\n",
       ":param includearrivals: Specify if phase arrivals should be included.\n",
       ":type eventid: str or int, optional\n",
       ":param eventid: Select a specific event by ID; event identifiers are\n",
       "    data center specific (String or Integer).\n",
       ":type limit: int, optional\n",
       ":param limit: Limit the results to the specified number of events.\n",
       ":type offset: int, optional\n",
       ":param offset: Return results starting at the event count specified,\n",
       "    starting at 1.\n",
       ":type orderby: str, optional\n",
       ":param orderby: Order the result by time or magnitude with the\n",
       "    following possibilities:\n",
       "\n",
       "    * time: order by origin descending time\n",
       "    * time-asc: order by origin ascending time\n",
       "    * magnitude: order by descending magnitude\n",
       "    * magnitude-asc: order by ascending magnitude\n",
       "\n",
       ":type catalog: str, optional\n",
       ":param catalog: Limit to events from a specified catalog\n",
       ":type contributor: str, optional\n",
       ":param contributor: Limit to events contributed by a specified\n",
       "    contributor.\n",
       ":type updatedafter: :class:`~obspy.core.utcdatetime.UTCDateTime`,\n",
       "    optional\n",
       ":param updatedafter: Limit to events updated after the specified time.\n",
       ":type filename: str or file\n",
       ":param filename: If given, the downloaded data will be saved there\n",
       "    instead of being parsed to an ObsPy object. Thus it will contain\n",
       "    the raw data from the webservices.\n",
       "\n",
       "\n",
       "Any additional keyword arguments will be passed to the webservice as\n",
       "additional arguments. If you pass one of the default parameters and the\n",
       "webservice does not support it, a warning will be issued. Passing any\n",
       "non-default parameters that the webservice does not support will raise\n",
       "an error.\n",
       "\u001b[0;31mFile:\u001b[0m      /opt/tljh/user/lib/python3.9/site-packages/obspy/clients/fdsn/client.py\n",
       "\u001b[0;31mType:\u001b[0m      method\n"
      ]
     },
     "metadata": {},
     "output_type": "display_data"
    }
   ],
   "source": [
    "from obspy.core import event\n",
    "from obspy.clients.fdsn import Client\n",
    "from obspy import UTCDateTime\n",
    "import numpy as np\n",
    "\n",
    "client = Client(\"IRIS\")\n",
    "\n",
    "?client.get_events\n",
    "#?np.zeros"
   ]
  },
  {
   "cell_type": "code",
   "execution_count": 16,
   "id": "2b0dc620-c02b-4c79-9245-013a56545398",
   "metadata": {},
   "outputs": [
    {
     "name": "stdout",
     "output_type": "stream",
     "text": [
      "[[0. 0. 0. 0.]\n",
      " [0. 0. 0. 0.]\n",
      " [0. 0. 0. 0.]\n",
      " [0. 0. 0. 0.]\n",
      " [0. 0. 0. 0.]\n",
      " [0. 0. 0. 0.]]\n"
     ]
    }
   ],
   "source": [
    "print(np.zeros((6,4)))\n",
    "\n"
   ]
  },
  {
   "cell_type": "code",
   "execution_count": 3,
   "id": "34c7e21b-297d-41bb-8348-c11f40ac2bfe",
   "metadata": {},
   "outputs": [
    {
     "ename": "SyntaxError",
     "evalue": "invalid syntax (2012227654.py, line 1)",
     "output_type": "error",
     "traceback": [
      "\u001b[0;36m  Input \u001b[0;32mIn [3]\u001b[0;36m\u001b[0m\n\u001b[0;31m    get_events()?\u001b[0m\n\u001b[0m                ^\u001b[0m\n\u001b[0;31mSyntaxError\u001b[0m\u001b[0;31m:\u001b[0m invalid syntax\n"
     ]
    }
   ],
   "source": [
    "get_events()?\n"
   ]
  },
  {
   "cell_type": "code",
   "execution_count": 7,
   "id": "f8f9c452-d8e9-436c-8ff1-22ed1c5f2da7",
   "metadata": {},
   "outputs": [
    {
     "ename": "SyntaxError",
     "evalue": "invalid syntax (889474525.py, line 1)",
     "output_type": "error",
     "traceback": [
      "\u001b[0;36m  Input \u001b[0;32mIn [7]\u001b[0;36m\u001b[0m\n\u001b[0;31m    help(.get_events)\u001b[0m\n\u001b[0m         ^\u001b[0m\n\u001b[0;31mSyntaxError\u001b[0m\u001b[0;31m:\u001b[0m invalid syntax\n"
     ]
    }
   ],
   "source": [
    "help(.get_events)\n"
   ]
  },
  {
   "cell_type": "code",
   "execution_count": 1,
   "id": "bb702f56-40c8-4ffb-987d-e8d449749f3f",
   "metadata": {},
   "outputs": [
    {
     "data": {
      "text/plain": [
       "\u001b[0;31mInit signature:\u001b[0m \u001b[0menumerate\u001b[0m\u001b[0;34m(\u001b[0m\u001b[0miterable\u001b[0m\u001b[0;34m,\u001b[0m \u001b[0mstart\u001b[0m\u001b[0;34m=\u001b[0m\u001b[0;36m0\u001b[0m\u001b[0;34m)\u001b[0m\u001b[0;34m\u001b[0m\u001b[0;34m\u001b[0m\u001b[0m\n",
       "\u001b[0;31mDocstring:\u001b[0m     \n",
       "Return an enumerate object.\n",
       "\n",
       "  iterable\n",
       "    an object supporting iteration\n",
       "\n",
       "The enumerate object yields pairs containing a count (from start, which\n",
       "defaults to zero) and a value yielded by the iterable argument.\n",
       "\n",
       "enumerate is useful for obtaining an indexed list:\n",
       "    (0, seq[0]), (1, seq[1]), (2, seq[2]), ...\n",
       "\u001b[0;31mType:\u001b[0m           type\n",
       "\u001b[0;31mSubclasses:\u001b[0m     \n"
      ]
     },
     "metadata": {},
     "output_type": "display_data"
    }
   ],
   "source": [
    "?enumerate\n"
   ]
  },
  {
   "cell_type": "code",
   "execution_count": 5,
   "id": "18652019-7337-401b-91ee-92b462cc5c3f",
   "metadata": {},
   "outputs": [
    {
     "name": "stdout",
     "output_type": "stream",
     "text": [
      "(0, 1)\n",
      "(1, 2)\n",
      "(2, '4')\n",
      "(3, 4)\n"
     ]
    }
   ],
   "source": [
    "for x in enumerate([1,2,\"4\",4]):\n",
    "    print(x)"
   ]
  },
  {
   "cell_type": "code",
   "execution_count": 3,
   "id": "6271f627-d5c7-47de-b90c-191be64ca50c",
   "metadata": {},
   "outputs": [
    {
     "name": "stdout",
     "output_type": "stream",
     "text": [
      "<enumerate object at 0x7fd11073b2c0>\n"
     ]
    }
   ],
   "source": [
    "\n"
   ]
  },
  {
   "cell_type": "code",
   "execution_count": null,
   "id": "c8e9ce3e-b07a-4eb5-99cf-416a57b77d8a",
   "metadata": {},
   "outputs": [],
   "source": []
  }
 ],
 "metadata": {
  "kernelspec": {
   "display_name": "Python 3 (ipykernel)",
   "language": "python",
   "name": "python3"
  },
  "language_info": {
   "codemirror_mode": {
    "name": "ipython",
    "version": 3
   },
   "file_extension": ".py",
   "mimetype": "text/x-python",
   "name": "python",
   "nbconvert_exporter": "python",
   "pygments_lexer": "ipython3",
   "version": "3.9.7"
  }
 },
 "nbformat": 4,
 "nbformat_minor": 5
}
