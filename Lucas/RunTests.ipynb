{
 "cells": [
  {
   "cell_type": "code",
   "execution_count": 1,
   "id": "e96c4370-f68e-4b6e-8133-33cc72672796",
   "metadata": {},
   "outputs": [],
   "source": [
    "from src import functions\n",
    "from src import my_functions\n",
    "import pytest\n",
    "import cartopy\n",
    "\n",
    "import warnings"
   ]
  },
  {
   "cell_type": "code",
   "execution_count": 2,
   "id": "5b8289d8-cd7c-4d57-a8ab-70b944307608",
   "metadata": {},
   "outputs": [
    {
     "data": {
      "text/plain": [
       "16"
      ]
     },
     "execution_count": 2,
     "metadata": {},
     "output_type": "execute_result"
    }
   ],
   "source": [
    "functions.foo_function(4)"
   ]
  },
  {
   "cell_type": "code",
   "execution_count": 1,
   "id": "6cfe09db-2e11-42e4-b538-24d519252e52",
   "metadata": {},
   "outputs": [
    {
     "name": "stdout",
     "output_type": "stream",
     "text": [
      "\u001b[1m============================= test session starts ==============================\u001b[0m\n",
      "platform linux -- Python 3.9.7, pytest-7.1.2, pluggy-1.0.0\n",
      "rootdir: /home/jupyter-u6079899/EMSC-4033-2022-assignment-Group3/Lucas\n",
      "plugins: anyio-3.5.0\n",
      "collected 6 items                                                              \u001b[0m\u001b[1m\n",
      "\n",
      "tests/test_functions.py \u001b[32m.\u001b[0m\u001b[32m.\u001b[0m\u001b[32m.\u001b[0m\u001b[32m.\u001b[0m\u001b[32m.\u001b[0m\u001b[31mF\u001b[0m\u001b[31m                                           [100%]\u001b[0m\n",
      "\n",
      "=================================== FAILURES ===================================\n",
      "\u001b[31m\u001b[1m____________________ test_my_global_raster_data_lats_longs _____________________\u001b[0m\n",
      "\n",
      "    \u001b[94mdef\u001b[39;49;00m \u001b[92mtest_my_global_raster_data_lats_longs\u001b[39;49;00m():\n",
      "        \u001b[33m\"\"\"Tests if the first two columns of the output of my_global_raster_data contain acceptible latitude and longitude values and are not equal to 0.\"\"\"\u001b[39;49;00m\n",
      "    \n",
      "        all_raster_data = my_global_raster_data()\n",
      "        test_data = all_raster_data[\u001b[94m1\u001b[39;49;00m]\n",
      "    \n",
      "        \u001b[90m#other people may have these in a different order to me\u001b[39;49;00m\n",
      "        \u001b[90m#so I just check that the first two columns contain latitudes and longitudes.\u001b[39;49;00m\n",
      "        test1 = \u001b[96mall\u001b[39;49;00m(-\u001b[94m180\u001b[39;49;00m <= x <= \u001b[94m180\u001b[39;49;00m \u001b[94mfor\u001b[39;49;00m x \u001b[95min\u001b[39;49;00m test_data[:,\u001b[94m0\u001b[39;49;00m])\n",
      "        test2 = \u001b[96mall\u001b[39;49;00m(-\u001b[94m90\u001b[39;49;00m <= x <= \u001b[94m90\u001b[39;49;00m \u001b[94mfor\u001b[39;49;00m x \u001b[95min\u001b[39;49;00m test_data[:,\u001b[94m1\u001b[39;49;00m])\n",
      "        test3 = \u001b[95mnot\u001b[39;49;00m(\u001b[96mall\u001b[39;49;00m(x == \u001b[94m0\u001b[39;49;00m \u001b[94mfor\u001b[39;49;00m x \u001b[95min\u001b[39;49;00m test_data[:,\u001b[94m0\u001b[39;49;00m]))\n",
      "        test4 = \u001b[95mnot\u001b[39;49;00m(\u001b[96mall\u001b[39;49;00m(x == \u001b[94m0\u001b[39;49;00m \u001b[94mfor\u001b[39;49;00m x \u001b[95min\u001b[39;49;00m test_data[:,\u001b[94m1\u001b[39;49;00m]))\n",
      "    \n",
      "    \n",
      "        \u001b[94massert\u001b[39;49;00m test3 \u001b[95mand\u001b[39;49;00m test4, \u001b[33m\"\u001b[39;49;00m\u001b[33mall values in either latitude or longitude in a point of my_global_raster_data is 0\u001b[39;49;00m\u001b[33m\"\u001b[39;49;00m\n",
      "    \n",
      "        \u001b[94massert\u001b[39;49;00m test1 \u001b[95mand\u001b[39;49;00m test2, \u001b[33m\"\u001b[39;49;00m\u001b[33mOne of the first two columns are outside of the accptible range for latitudes and longitudes respectively.\u001b[39;49;00m\u001b[33m\"\u001b[39;49;00m\n",
      "    \n",
      ">       \u001b[94massert\u001b[39;49;00m \u001b[94mFalse\u001b[39;49;00m, \u001b[33m\"\u001b[39;49;00m\u001b[33mtest\u001b[39;49;00m\u001b[33m\"\u001b[39;49;00m\n",
      "\u001b[1m\u001b[31mE       AssertionError: test\u001b[0m\n",
      "\u001b[1m\u001b[31mE       assert False\u001b[0m\n",
      "\n",
      "\u001b[1m\u001b[31mtests/test_functions.py\u001b[0m:95: AssertionError\n",
      "----------------------------- Captured stdout call -----------------------------\n",
      "Cloudstore connection established\n",
      "Remote and local file size both 21.99 MB, skipping - global_age_data.3.6.z.npz\n",
      "\u001b[33m=============================== warnings summary ===============================\u001b[0m\n",
      "tests/test_functions.py::test_my_coastlines\n",
      "  /opt/tljh/user/lib/python3.9/site-packages/_pytest/python.py:192: PytestRemovedIn8Warning: Passing None has been deprecated.\n",
      "  See https://docs.pytest.org/en/latest/how-to/capture-warnings.html#additional-use-cases-of-warnings-in-tests for alternatives in common use cases.\n",
      "    result = testfunction(**testargs)\n",
      "\n",
      "-- Docs: https://docs.pytest.org/en/stable/how-to/capture-warnings.html\n",
      "=========================== short test summary info ============================\n",
      "FAILED tests/test_functions.py::test_my_global_raster_data_lats_longs - Asser...\n",
      "\u001b[31m=================== \u001b[31m\u001b[1m1 failed\u001b[0m, \u001b[32m5 passed\u001b[0m, \u001b[33m1 warning\u001b[0m\u001b[31m in 11.72s\u001b[0m\u001b[31m ====================\u001b[0m\n"
     ]
    }
   ],
   "source": [
    "! pytest"
   ]
  },
  {
   "cell_type": "code",
   "execution_count": 4,
   "id": "016f350e-1f57-4a99-867a-24692bbba922",
   "metadata": {},
   "outputs": [
    {
     "data": {
      "text/plain": [
       "cartopy.feature.NaturalEarthFeature"
      ]
     },
     "execution_count": 4,
     "metadata": {},
     "output_type": "execute_result"
    }
   ],
   "source": [
    "type(my_functions.my_earth_features()[0])\n",
    "\n"
   ]
  },
  {
   "cell_type": "code",
   "execution_count": 9,
   "id": "304d39f0-e8c0-4406-8b1c-78af85fffd5e",
   "metadata": {},
   "outputs": [
    {
     "data": {
      "text/plain": [
       "\u001b[0;31mSignature:\u001b[0m\n",
       "\u001b[0mpytest\u001b[0m\u001b[0;34m.\u001b[0m\u001b[0mwarns\u001b[0m\u001b[0;34m(\u001b[0m\u001b[0;34m\u001b[0m\n",
       "\u001b[0;34m\u001b[0m    \u001b[0mexpected_warning\u001b[0m\u001b[0;34m:\u001b[0m \u001b[0mUnion\u001b[0m\u001b[0;34m[\u001b[0m\u001b[0mType\u001b[0m\u001b[0;34m[\u001b[0m\u001b[0mWarning\u001b[0m\u001b[0;34m]\u001b[0m\u001b[0;34m,\u001b[0m \u001b[0mTuple\u001b[0m\u001b[0;34m[\u001b[0m\u001b[0mType\u001b[0m\u001b[0;34m[\u001b[0m\u001b[0mWarning\u001b[0m\u001b[0;34m]\u001b[0m\u001b[0;34m,\u001b[0m \u001b[0;34m...\u001b[0m\u001b[0;34m]\u001b[0m\u001b[0;34m]\u001b[0m \u001b[0;34m=\u001b[0m \u001b[0;34m<\u001b[0m\u001b[0;32mclass\u001b[0m \u001b[0;34m'Warning'\u001b[0m\u001b[0;34m>\u001b[0m\u001b[0;34m,\u001b[0m\u001b[0;34m\u001b[0m\n",
       "\u001b[0;34m\u001b[0m    \u001b[0;34m*\u001b[0m\u001b[0margs\u001b[0m\u001b[0;34m:\u001b[0m \u001b[0mAny\u001b[0m\u001b[0;34m,\u001b[0m\u001b[0;34m\u001b[0m\n",
       "\u001b[0;34m\u001b[0m    \u001b[0mmatch\u001b[0m\u001b[0;34m:\u001b[0m \u001b[0mUnion\u001b[0m\u001b[0;34m[\u001b[0m\u001b[0mstr\u001b[0m\u001b[0;34m,\u001b[0m \u001b[0mPattern\u001b[0m\u001b[0;34m[\u001b[0m\u001b[0mstr\u001b[0m\u001b[0;34m]\u001b[0m\u001b[0;34m,\u001b[0m \u001b[0mNoneType\u001b[0m\u001b[0;34m]\u001b[0m \u001b[0;34m=\u001b[0m \u001b[0;32mNone\u001b[0m\u001b[0;34m,\u001b[0m\u001b[0;34m\u001b[0m\n",
       "\u001b[0;34m\u001b[0m    \u001b[0;34m**\u001b[0m\u001b[0mkwargs\u001b[0m\u001b[0;34m:\u001b[0m \u001b[0mAny\u001b[0m\u001b[0;34m,\u001b[0m\u001b[0;34m\u001b[0m\n",
       "\u001b[0;34m\u001b[0m\u001b[0;34m)\u001b[0m \u001b[0;34m->\u001b[0m \u001b[0mUnion\u001b[0m\u001b[0;34m[\u001b[0m\u001b[0mForwardRef\u001b[0m\u001b[0;34m(\u001b[0m\u001b[0;34m'WarningsChecker'\u001b[0m\u001b[0;34m)\u001b[0m\u001b[0;34m,\u001b[0m \u001b[0mAny\u001b[0m\u001b[0;34m]\u001b[0m\u001b[0;34m\u001b[0m\u001b[0;34m\u001b[0m\u001b[0m\n",
       "\u001b[0;31mDocstring:\u001b[0m\n",
       "Assert that code raises a particular class of warning.\n",
       "\n",
       "Specifically, the parameter ``expected_warning`` can be a warning class or\n",
       "sequence of warning classes, and the inside the ``with`` block must issue a warning of that class or\n",
       "classes.\n",
       "\n",
       "This helper produces a list of :class:`warnings.WarningMessage` objects,\n",
       "one for each warning raised.\n",
       "\n",
       "This function can be used as a context manager, or any of the other ways\n",
       ":func:`pytest.raises` can be used::\n",
       "\n",
       "    >>> import pytest\n",
       "    >>> with pytest.warns(RuntimeWarning):\n",
       "    ...    warnings.warn(\"my warning\", RuntimeWarning)\n",
       "\n",
       "In the context manager form you may use the keyword argument ``match`` to assert\n",
       "that the warning matches a text or regex::\n",
       "\n",
       "    >>> with pytest.warns(UserWarning, match='must be 0 or None'):\n",
       "    ...     warnings.warn(\"value must be 0 or None\", UserWarning)\n",
       "\n",
       "    >>> with pytest.warns(UserWarning, match=r'must be \\d+$'):\n",
       "    ...     warnings.warn(\"value must be 42\", UserWarning)\n",
       "\n",
       "    >>> with pytest.warns(UserWarning, match=r'must be \\d+$'):\n",
       "    ...     warnings.warn(\"this is not here\", UserWarning)\n",
       "    Traceback (most recent call last):\n",
       "      ...\n",
       "    Failed: DID NOT WARN. No warnings of type ...UserWarning... were emitted...\n",
       "\u001b[0;31mFile:\u001b[0m      /opt/tljh/user/lib/python3.9/site-packages/_pytest/recwarn.py\n",
       "\u001b[0;31mType:\u001b[0m      function\n"
      ]
     },
     "metadata": {},
     "output_type": "display_data"
    }
   ],
   "source": [
    "?pytest.warns\n"
   ]
  },
  {
   "cell_type": "code",
   "execution_count": 6,
   "id": "de9f4ef7-e89d-46c5-9ff3-7465fd8dcc8c",
   "metadata": {},
   "outputs": [
    {
     "name": "stdout",
     "output_type": "stream",
     "text": [
      "True\n"
     ]
    }
   ],
   "source": [
    "print(type(my_functions.my_basemaps().popitem()[1])== cartopy.io.img_tiles.OSM )\n"
   ]
  },
  {
   "cell_type": "code",
   "execution_count": 7,
   "id": "5d5d33b3-ed6e-4d91-8f1c-fd591b53f009",
   "metadata": {},
   "outputs": [
    {
     "data": {
      "text/plain": [
       "False"
      ]
     },
     "execution_count": 7,
     "metadata": {},
     "output_type": "execute_result"
    }
   ],
   "source": [
    "x = [0,2,3]\n",
    "all(1<= y <= 5 for y in x)"
   ]
  },
  {
   "cell_type": "code",
   "execution_count": 8,
   "id": "97e0e206-320c-40db-a8ae-c93c19e16482",
   "metadata": {},
   "outputs": [
    {
     "data": {
      "text/plain": [
       "\u001b[0;31mSignature:\u001b[0m \u001b[0mall\u001b[0m\u001b[0;34m(\u001b[0m\u001b[0miterable\u001b[0m\u001b[0;34m,\u001b[0m \u001b[0;34m/\u001b[0m\u001b[0;34m)\u001b[0m\u001b[0;34m\u001b[0m\u001b[0;34m\u001b[0m\u001b[0m\n",
       "\u001b[0;31mDocstring:\u001b[0m\n",
       "Return True if bool(x) is True for all values x in the iterable.\n",
       "\n",
       "If the iterable is empty, return True.\n",
       "\u001b[0;31mType:\u001b[0m      builtin_function_or_method\n"
      ]
     },
     "metadata": {},
     "output_type": "display_data"
    }
   ],
   "source": [
    "?all"
   ]
  },
  {
   "cell_type": "code",
   "execution_count": 3,
   "id": "322d1fbb-bfcb-4537-ab12-bb8ab4abcbac",
   "metadata": {},
   "outputs": [
    {
     "name": "stdout",
     "output_type": "stream",
     "text": [
      "Cloudstore connection established\n",
      "Remote and local file size both 21.99 MB, skipping - global_age_data.3.6.z.npz\n"
     ]
    }
   ],
   "source": [
    "a = my_functions.my_global_raster_data()\n"
   ]
  },
  {
   "cell_type": "code",
   "execution_count": 7,
   "id": "74fb8904-4e00-47c1-b40b-3ced06bf1a52",
   "metadata": {},
   "outputs": [
    {
     "name": "stdout",
     "output_type": "stream",
     "text": [
      "1801\n"
     ]
    }
   ],
   "source": [
    "print(len(a))\n"
   ]
  },
  {
   "cell_type": "code",
   "execution_count": 4,
   "id": "9d89edfa-5b0e-4c53-9955-88facc72c1dd",
   "metadata": {},
   "outputs": [
    {
     "name": "stdout",
     "output_type": "stream",
     "text": [
      "[[-180.         89.9        55.370914]\n",
      " [-179.9        89.9        55.371075]\n",
      " [-179.8        89.9        55.361431]\n",
      " ...\n",
      " [ 179.8        89.9        55.363701]\n",
      " [ 179.9        89.9        55.363701]\n",
      " [ 180.         89.9        55.3643  ]]\n"
     ]
    }
   ],
   "source": [
    "print(a[1])"
   ]
  },
  {
   "cell_type": "code",
   "execution_count": 8,
   "id": "4f688021-f2e7-4c7f-b08a-7d869cb118e2",
   "metadata": {},
   "outputs": [
    {
     "data": {
      "text/plain": [
       "False"
      ]
     },
     "execution_count": 8,
     "metadata": {},
     "output_type": "execute_result"
    }
   ],
   "source": [
    "all(x == 0 for x in a[1][:,0])"
   ]
  },
  {
   "cell_type": "code",
   "execution_count": 10,
   "id": "5e8dbf9b-5ae4-4682-8d27-17005031d8eb",
   "metadata": {},
   "outputs": [
    {
     "data": {
      "text/plain": [
       "True"
      ]
     },
     "execution_count": 10,
     "metadata": {},
     "output_type": "execute_result"
    }
   ],
   "source": [
    "not(all(x == 0 for x in a[1][:,1]))"
   ]
  },
  {
   "cell_type": "code",
   "execution_count": 4,
   "id": "062a4129-06da-4f5c-9db7-3218526fdd5a",
   "metadata": {},
   "outputs": [
    {
     "name": "stdout",
     "output_type": "stream",
     "text": [
      "Cloudstore connection established\n",
      "Remote and local file size both 21.99 MB, skipping - global_age_data.3.6.z.npz\n"
     ]
    }
   ],
   "source": [
    "    all_raster_data = my_functions.my_global_raster_data()\n",
    "    test_data = all_raster_data[1]"
   ]
  },
  {
   "cell_type": "code",
   "execution_count": 5,
   "id": "a89a49c8-6ab8-4d9f-82f0-16b1c2994858",
   "metadata": {},
   "outputs": [
    {
     "data": {
      "text/plain": [
       "array([[-180.      ,   89.9     ,   55.370914],\n",
       "       [-179.9     ,   89.9     ,   55.371075],\n",
       "       [-179.8     ,   89.9     ,   55.361431],\n",
       "       ...,\n",
       "       [ 179.8     ,   89.9     ,   55.363701],\n",
       "       [ 179.9     ,   89.9     ,   55.363701],\n",
       "       [ 180.      ,   89.9     ,   55.3643  ]])"
      ]
     },
     "execution_count": 5,
     "metadata": {},
     "output_type": "execute_result"
    }
   ],
   "source": [
    "test_data"
   ]
  },
  {
   "cell_type": "code",
   "execution_count": 6,
   "id": "c43ecfcb-c5a9-47dc-9909-f9c5545084f4",
   "metadata": {},
   "outputs": [],
   "source": [
    "    test3 = not(all(x == 0 for x in test_data[:,0]))\n",
    "    test4 = not(all(x == 0 for x in test_data[:,1]))"
   ]
  },
  {
   "cell_type": "code",
   "execution_count": 7,
   "id": "6e980ff0-ecc4-459c-b43c-e98dc80f045a",
   "metadata": {},
   "outputs": [
    {
     "data": {
      "text/plain": [
       "True"
      ]
     },
     "execution_count": 7,
     "metadata": {},
     "output_type": "execute_result"
    }
   ],
   "source": [
    "test3"
   ]
  },
  {
   "cell_type": "code",
   "execution_count": 8,
   "id": "fdac9465-69c0-456d-a6dd-50a8cc93bf56",
   "metadata": {},
   "outputs": [
    {
     "data": {
      "text/plain": [
       "True"
      ]
     },
     "execution_count": 8,
     "metadata": {},
     "output_type": "execute_result"
    }
   ],
   "source": [
    "test4"
   ]
  },
  {
   "cell_type": "code",
   "execution_count": null,
   "id": "79b989c2-f217-4fd4-b6cf-81f8d7c64505",
   "metadata": {},
   "outputs": [],
   "source": []
  }
 ],
 "metadata": {
  "kernelspec": {
   "display_name": "Python 3 (ipykernel)",
   "language": "python",
   "name": "python3"
  },
  "language_info": {
   "codemirror_mode": {
    "name": "ipython",
    "version": 3
   },
   "file_extension": ".py",
   "mimetype": "text/x-python",
   "name": "python",
   "nbconvert_exporter": "python",
   "pygments_lexer": "ipython3",
   "version": "3.9.7"
  }
 },
 "nbformat": 4,
 "nbformat_minor": 5
}
