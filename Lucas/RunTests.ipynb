{
 "cells": [
  {
   "cell_type": "code",
   "execution_count": 15,
   "id": "e96c4370-f68e-4b6e-8133-33cc72672796",
   "metadata": {},
   "outputs": [],
   "source": [
    "from src import functions\n",
    "from src import my_functions\n",
    "import pytest\n",
    "\n",
    "import warnings"
   ]
  },
  {
   "cell_type": "code",
   "execution_count": 6,
   "id": "5b8289d8-cd7c-4d57-a8ab-70b944307608",
   "metadata": {},
   "outputs": [
    {
     "data": {
      "text/plain": [
       "16"
      ]
     },
     "execution_count": 6,
     "metadata": {},
     "output_type": "execute_result"
    }
   ],
   "source": [
    "functions.foo_function(4)"
   ]
  },
  {
   "cell_type": "code",
   "execution_count": 16,
   "id": "6cfe09db-2e11-42e4-b538-24d519252e52",
   "metadata": {},
   "outputs": [
    {
     "name": "stdout",
     "output_type": "stream",
     "text": [
      "\u001b[1m============================= test session starts ==============================\u001b[0m\n",
      "platform linux -- Python 3.9.7, pytest-7.1.2, pluggy-1.0.0\n",
      "rootdir: /home/jupyter-u6079899/EMSC-4033-2022-assignment-Group3/Lucas\n",
      "plugins: anyio-3.5.0\n",
      "collected 2 items                                                              \u001b[0m\u001b[1m\n",
      "\n",
      "tests/test_functions.py \u001b[32m.\u001b[0m\u001b[32m.\u001b[0m\u001b[33m                                               [100%]\u001b[0m\n",
      "\n",
      "\u001b[33m=============================== warnings summary ===============================\u001b[0m\n",
      "tests/test_functions.py::test_my_coastlines\n",
      "  /opt/tljh/user/lib/python3.9/site-packages/_pytest/python.py:192: PytestRemovedIn8Warning: Passing None has been deprecated.\n",
      "  See https://docs.pytest.org/en/latest/how-to/capture-warnings.html#additional-use-cases-of-warnings-in-tests for alternatives in common use cases.\n",
      "    result = testfunction(**testargs)\n",
      "\n",
      "-- Docs: https://docs.pytest.org/en/stable/how-to/capture-warnings.html\n",
      "\u001b[33m========================= \u001b[32m2 passed\u001b[0m, \u001b[33m\u001b[1m1 warning\u001b[0m\u001b[33m in 1.19s\u001b[0m\u001b[33m =========================\u001b[0m\n"
     ]
    }
   ],
   "source": [
    "! pytest"
   ]
  },
  {
   "cell_type": "code",
   "execution_count": 4,
   "id": "016f350e-1f57-4a99-867a-24692bbba922",
   "metadata": {},
   "outputs": [
    {
     "data": {
      "text/plain": [
       "\u001b[0;31mInit signature:\u001b[0m \u001b[0mwarnings\u001b[0m\u001b[0;34m.\u001b[0m\u001b[0mcatch_warnings\u001b[0m\u001b[0;34m(\u001b[0m\u001b[0;34m*\u001b[0m\u001b[0;34m,\u001b[0m \u001b[0mrecord\u001b[0m\u001b[0;34m=\u001b[0m\u001b[0;32mFalse\u001b[0m\u001b[0;34m,\u001b[0m \u001b[0mmodule\u001b[0m\u001b[0;34m=\u001b[0m\u001b[0;32mNone\u001b[0m\u001b[0;34m)\u001b[0m\u001b[0;34m\u001b[0m\u001b[0;34m\u001b[0m\u001b[0m\n",
       "\u001b[0;31mDocstring:\u001b[0m     \n",
       "A context manager that copies and restores the warnings filter upon\n",
       "exiting the context.\n",
       "\n",
       "The 'record' argument specifies whether warnings should be captured by a\n",
       "custom implementation of warnings.showwarning() and be appended to a list\n",
       "returned by the context manager. Otherwise None is returned by the context\n",
       "manager. The objects appended to the list are arguments whose attributes\n",
       "mirror the arguments to showwarning().\n",
       "\n",
       "The 'module' argument is to specify an alternative module to the module\n",
       "named 'warnings' and imported under that name. This argument is only useful\n",
       "when testing the warnings module itself.\n",
       "\u001b[0;31mInit docstring:\u001b[0m\n",
       "Specify whether to record warnings and if an alternative module\n",
       "should be used other than sys.modules['warnings'].\n",
       "\n",
       "For compatibility with Python 3.0, please consider all arguments to be\n",
       "keyword-only.\n",
       "\u001b[0;31mFile:\u001b[0m           /opt/tljh/user/lib/python3.9/warnings.py\n",
       "\u001b[0;31mType:\u001b[0m           type\n",
       "\u001b[0;31mSubclasses:\u001b[0m     WarningsRecorder\n"
      ]
     },
     "metadata": {},
     "output_type": "display_data"
    }
   ],
   "source": [
    "?warnings.catch_warnings\n"
   ]
  },
  {
   "cell_type": "code",
   "execution_count": 11,
   "id": "304d39f0-e8c0-4406-8b1c-78af85fffd5e",
   "metadata": {},
   "outputs": [
    {
     "data": {
      "text/plain": [
       "\u001b[0;31mSignature:\u001b[0m\n",
       "\u001b[0mpytest\u001b[0m\u001b[0;34m.\u001b[0m\u001b[0mwarns\u001b[0m\u001b[0;34m(\u001b[0m\u001b[0;34m\u001b[0m\n",
       "\u001b[0;34m\u001b[0m    \u001b[0mexpected_warning\u001b[0m\u001b[0;34m:\u001b[0m \u001b[0mUnion\u001b[0m\u001b[0;34m[\u001b[0m\u001b[0mType\u001b[0m\u001b[0;34m[\u001b[0m\u001b[0mWarning\u001b[0m\u001b[0;34m]\u001b[0m\u001b[0;34m,\u001b[0m \u001b[0mTuple\u001b[0m\u001b[0;34m[\u001b[0m\u001b[0mType\u001b[0m\u001b[0;34m[\u001b[0m\u001b[0mWarning\u001b[0m\u001b[0;34m]\u001b[0m\u001b[0;34m,\u001b[0m \u001b[0;34m...\u001b[0m\u001b[0;34m]\u001b[0m\u001b[0;34m]\u001b[0m \u001b[0;34m=\u001b[0m \u001b[0;34m<\u001b[0m\u001b[0;32mclass\u001b[0m \u001b[0;34m'Warning'\u001b[0m\u001b[0;34m>\u001b[0m\u001b[0;34m,\u001b[0m\u001b[0;34m\u001b[0m\n",
       "\u001b[0;34m\u001b[0m    \u001b[0;34m*\u001b[0m\u001b[0margs\u001b[0m\u001b[0;34m:\u001b[0m \u001b[0mAny\u001b[0m\u001b[0;34m,\u001b[0m\u001b[0;34m\u001b[0m\n",
       "\u001b[0;34m\u001b[0m    \u001b[0mmatch\u001b[0m\u001b[0;34m:\u001b[0m \u001b[0mUnion\u001b[0m\u001b[0;34m[\u001b[0m\u001b[0mstr\u001b[0m\u001b[0;34m,\u001b[0m \u001b[0mPattern\u001b[0m\u001b[0;34m[\u001b[0m\u001b[0mstr\u001b[0m\u001b[0;34m]\u001b[0m\u001b[0;34m,\u001b[0m \u001b[0mNoneType\u001b[0m\u001b[0;34m]\u001b[0m \u001b[0;34m=\u001b[0m \u001b[0;32mNone\u001b[0m\u001b[0;34m,\u001b[0m\u001b[0;34m\u001b[0m\n",
       "\u001b[0;34m\u001b[0m    \u001b[0;34m**\u001b[0m\u001b[0mkwargs\u001b[0m\u001b[0;34m:\u001b[0m \u001b[0mAny\u001b[0m\u001b[0;34m,\u001b[0m\u001b[0;34m\u001b[0m\n",
       "\u001b[0;34m\u001b[0m\u001b[0;34m)\u001b[0m \u001b[0;34m->\u001b[0m \u001b[0mUnion\u001b[0m\u001b[0;34m[\u001b[0m\u001b[0mForwardRef\u001b[0m\u001b[0;34m(\u001b[0m\u001b[0;34m'WarningsChecker'\u001b[0m\u001b[0;34m)\u001b[0m\u001b[0;34m,\u001b[0m \u001b[0mAny\u001b[0m\u001b[0;34m]\u001b[0m\u001b[0;34m\u001b[0m\u001b[0;34m\u001b[0m\u001b[0m\n",
       "\u001b[0;31mDocstring:\u001b[0m\n",
       "Assert that code raises a particular class of warning.\n",
       "\n",
       "Specifically, the parameter ``expected_warning`` can be a warning class or\n",
       "sequence of warning classes, and the inside the ``with`` block must issue a warning of that class or\n",
       "classes.\n",
       "\n",
       "This helper produces a list of :class:`warnings.WarningMessage` objects,\n",
       "one for each warning raised.\n",
       "\n",
       "This function can be used as a context manager, or any of the other ways\n",
       ":func:`pytest.raises` can be used::\n",
       "\n",
       "    >>> import pytest\n",
       "    >>> with pytest.warns(RuntimeWarning):\n",
       "    ...    warnings.warn(\"my warning\", RuntimeWarning)\n",
       "\n",
       "In the context manager form you may use the keyword argument ``match`` to assert\n",
       "that the warning matches a text or regex::\n",
       "\n",
       "    >>> with pytest.warns(UserWarning, match='must be 0 or None'):\n",
       "    ...     warnings.warn(\"value must be 0 or None\", UserWarning)\n",
       "\n",
       "    >>> with pytest.warns(UserWarning, match=r'must be \\d+$'):\n",
       "    ...     warnings.warn(\"value must be 42\", UserWarning)\n",
       "\n",
       "    >>> with pytest.warns(UserWarning, match=r'must be \\d+$'):\n",
       "    ...     warnings.warn(\"this is not here\", UserWarning)\n",
       "    Traceback (most recent call last):\n",
       "      ...\n",
       "    Failed: DID NOT WARN. No warnings of type ...UserWarning... were emitted...\n",
       "\u001b[0;31mFile:\u001b[0m      /opt/tljh/user/lib/python3.9/site-packages/_pytest/recwarn.py\n",
       "\u001b[0;31mType:\u001b[0m      function\n"
      ]
     },
     "metadata": {},
     "output_type": "display_data"
    }
   ],
   "source": [
    "?pytest.warns\n"
   ]
  },
  {
   "cell_type": "code",
   "execution_count": null,
   "id": "de9f4ef7-e89d-46c5-9ff3-7465fd8dcc8c",
   "metadata": {},
   "outputs": [],
   "source": []
  }
 ],
 "metadata": {
  "kernelspec": {
   "display_name": "Python 3 (ipykernel)",
   "language": "python",
   "name": "python3"
  },
  "language_info": {
   "codemirror_mode": {
    "name": "ipython",
    "version": 3
   },
   "file_extension": ".py",
   "mimetype": "text/x-python",
   "name": "python",
   "nbconvert_exporter": "python",
   "pygments_lexer": "ipython3",
   "version": "3.9.7"
  }
 },
 "nbformat": 4,
 "nbformat_minor": 5
}
